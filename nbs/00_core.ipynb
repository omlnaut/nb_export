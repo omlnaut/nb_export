{
 "cells": [
  {
   "cell_type": "code",
   "execution_count": null,
   "metadata": {},
   "outputs": [],
   "source": [
    "# default_exp core"
   ]
  },
  {
   "cell_type": "code",
   "execution_count": null,
   "metadata": {},
   "outputs": [],
   "source": [
    "# export\n",
    "import json\n",
    "import re\n",
    "from collections import defaultdict\n",
    "\n",
    "from pathlib import Path"
   ]
  },
  {
   "cell_type": "markdown",
   "metadata": {},
   "source": [
    "# Core functions\n",
    "\n",
    "> Reading notebooks, extracting code"
   ]
  },
  {
   "cell_type": "code",
   "execution_count": null,
   "metadata": {},
   "outputs": [],
   "source": [
    "# exp common\n",
    "CONFIG = 1"
   ]
  },
  {
   "cell_type": "markdown",
   "metadata": {},
   "source": [
    "## Reading"
   ]
  },
  {
   "cell_type": "code",
   "execution_count": null,
   "metadata": {},
   "outputs": [],
   "source": [
    "test_path = Path('index.ipynb')"
   ]
  },
  {
   "cell_type": "code",
   "execution_count": null,
   "metadata": {},
   "outputs": [],
   "source": [
    "# export\n",
    "def read_nb(nb_path):\n",
    "    return  json.load(nb_path.open())"
   ]
  },
  {
   "cell_type": "code",
   "execution_count": null,
   "metadata": {},
   "outputs": [],
   "source": [
    "loaded = read_nb(test_path)"
   ]
  },
  {
   "cell_type": "code",
   "execution_count": null,
   "metadata": {},
   "outputs": [],
   "source": [
    "# export\n",
    "def nb_iter(base_path):\n",
    "    return base_path.glob('*.ipynb')"
   ]
  },
  {
   "cell_type": "code",
   "execution_count": null,
   "metadata": {},
   "outputs": [
    {
     "data": {
      "text/plain": [
       "[WindowsPath('00_core.ipynb'), WindowsPath('index.ipynb')]"
      ]
     },
     "execution_count": null,
     "metadata": {},
     "output_type": "execute_result"
    }
   ],
   "source": [
    "list(nb_iter(Path()))"
   ]
  },
  {
   "cell_type": "code",
   "execution_count": null,
   "metadata": {},
   "outputs": [],
   "source": [
    "# export\n",
    "def code_iter(nb):\n",
    "    for cell in nb['cells']:\n",
    "        if cell['cell_type']=='code':\n",
    "            if cell['source']:\n",
    "                yield cell['source']"
   ]
  },
  {
   "cell_type": "code",
   "execution_count": null,
   "metadata": {},
   "outputs": [],
   "source": [
    "# export\n",
    "def extract_code(nb, pre=None):\n",
    "    to_export = defaultdict(list)\n",
    "    \n",
    "    for code in code_iter(nb):\n",
    "        # Can't get python 3.8 to work with github CI\n",
    "        # if match := re.match(r'''# exp (.+)\\n''', code[0]):\n",
    "        match = re.match(r'''# exp (.+)\\n''', code[0])\n",
    "        if match:\n",
    "            target = match.group(1)\n",
    "            content = ''.join(code[1:])\n",
    "            if pre is not None:\n",
    "                content = '#' + pre + '\\n' + content\n",
    "\n",
    "            to_export[target].append(content)\n",
    "    return to_export"
   ]
  },
  {
   "cell_type": "code",
   "execution_count": null,
   "metadata": {},
   "outputs": [
    {
     "data": {
      "text/plain": [
       "defaultdict(list,\n",
       "            {'common': ['import math',\n",
       "              'def sum_up_to(n):\\n    return int(n*(n+1)/2)',\n",
       "              'def product_up_to(n):\\n    return math.factorial(n)']})"
      ]
     },
     "execution_count": null,
     "metadata": {},
     "output_type": "execute_result"
    }
   ],
   "source": [
    "extract_code(loaded)"
   ]
  },
  {
   "cell_type": "markdown",
   "metadata": {},
   "source": [
    "## Saving"
   ]
  },
  {
   "cell_type": "code",
   "execution_count": null,
   "metadata": {},
   "outputs": [],
   "source": [
    "# export\n",
    "def build_all(read_base_path, save_base_path=None):\n",
    "    dicts = [extract_code(read_nb(nb_path), pre=nb_path.name) for nb_path in nb_iter(Path(read_base_path))]\n",
    "    if save_base_path is None: save_base_path=Path(read_base_path)\n",
    "    \n",
    "    merged = dicts[0]\n",
    "    for single_dict in dicts[1:]:\n",
    "        for key,value in single_dict.items():\n",
    "            merged[key] += value\n",
    "            \n",
    "    # sort imports to top\n",
    "    imports = []\n",
    "    regular = []\n",
    "\n",
    "    for file in merged.keys():\n",
    "        for cell in merged[file]:\n",
    "            if 'import ' in cell:\n",
    "                imports.append(cell)\n",
    "            else:\n",
    "                regular.append(cell)\n",
    "\n",
    "        full_text = '\\n'.join(imports) + '\\n\\n#-----\\n\\n' + '\\n\\n'.join(regular)\n",
    "        filename = save_base_path / f'{file}.py'\n",
    "        \n",
    "        with open(filename, 'w') as f:\n",
    "            f.write(full_text)    "
   ]
  },
  {
   "cell_type": "code",
   "execution_count": null,
   "metadata": {},
   "outputs": [],
   "source": [
    "build_all('')"
   ]
  },
  {
   "cell_type": "code",
   "execution_count": null,
   "metadata": {},
   "outputs": [],
   "source": [
    "from common import *"
   ]
  },
  {
   "cell_type": "code",
   "execution_count": null,
   "metadata": {},
   "outputs": [],
   "source": []
  }
 ],
 "metadata": {
  "kernelspec": {
   "display_name": "Python 3",
   "language": "python",
   "name": "python3"
  },
  "language_info": {
   "codemirror_mode": {
    "name": "ipython",
    "version": 3
   },
   "file_extension": ".py",
   "mimetype": "text/x-python",
   "name": "python",
   "nbconvert_exporter": "python",
   "pygments_lexer": "ipython3",
   "version": "3.8.3"
  }
 },
 "nbformat": 4,
 "nbformat_minor": 4
}
